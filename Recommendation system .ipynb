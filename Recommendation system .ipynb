{
 "cells": [
  {
   "cell_type": "markdown",
   "metadata": {},
   "source": [
    "WHY BUILD RECOMMENDER SYSTEMS\n",
    "Recommender systems are created to find out the items that a user is most likely to purchase. Almost all the e-commerce \n",
    "websites these days use recommender systems to make product recommendation at their site. For example, Netflix uses it to\n",
    "make movie recommendations. If you use Amazon music, then you must have seen the music recommendations which may have helped\n",
    "you in finding new music. Companies like Facebook, linkedIn, or other social media platforms also use recommender systems to\n",
    "help you connect with new people."
   ]
  },
  {
   "cell_type": "markdown",
   "metadata": {},
   "source": [
    "# 1) collaborative filtering recommender systems"
   ]
  },
  {
   "cell_type": "markdown",
   "metadata": {},
   "source": [
    "'''\n",
    "1)  User-based collaborative filtering:\n",
    "\n",
    "In this model products are recommended to a user based on the fact that \n",
    "the products have been liked by users similar to the user. For example vitthal & sachin like same same movies and \n",
    "a new movie comes out that Vitthal likes,then we can recommend that movie to Sachin because vitthal and sachin\n",
    "seem to like the same movies.\n",
    "\n",
    "\n",
    "2)  Item-based collaborative filtering: \n",
    "These systems identify similar items based on users’ previous ratings.For example if users A,B and C gave a 5 star rating \n",
    "to books X and Y then when a user D buys book Y they also get a recommendation to purchase book X because the system \n",
    "identifies book X and Y as similar based on the ratings of usersA,B and C.\n",
    "\n",
    "'''"
   ]
  },
  {
   "cell_type": "markdown",
   "metadata": {},
   "source": [
    "# 2)  POPULARITY BASED SYSTEMS\n"
   ]
  },
  {
   "cell_type": "markdown",
   "metadata": {},
   "source": [
    "These systems can be thought as the elementary form of collaborative filtering. The items are recommended based upon how\n",
    "popular those items are among other buyers or users. For example, a restaurant may be advised to you because it has been \n",
    "rated high or has received the most number of positive reviews by the users. So these systems require historical data to\n",
    "make a suggestion. They are mostly, used by websites like Forbes, Bloomberg, or other news sites. Note – These systems \n",
    "cannot make personalized recommendations as they do not take into account the user information."
   ]
  },
  {
   "cell_type": "markdown",
   "metadata": {},
   "source": [
    "# 3) CONTENT-BASED SYSTEMS"
   ]
  },
  {
   "cell_type": "markdown",
   "metadata": {},
   "source": [
    "These recommenders recommend items or products based upon the feature similarity of products. For example,\n",
    "if you have given a high rate to the hotel facing the beach, then similar hotels will be recommended to you."
   ]
  },
  {
   "cell_type": "code",
   "execution_count": 16,
   "metadata": {},
   "outputs": [
    {
     "data": {
      "text/html": [
       "<div>\n",
       "<style scoped>\n",
       "    .dataframe tbody tr th:only-of-type {\n",
       "        vertical-align: middle;\n",
       "    }\n",
       "\n",
       "    .dataframe tbody tr th {\n",
       "        vertical-align: top;\n",
       "    }\n",
       "\n",
       "    .dataframe thead th {\n",
       "        text-align: right;\n",
       "    }\n",
       "</style>\n",
       "<table border=\"1\" class=\"dataframe\">\n",
       "  <thead>\n",
       "    <tr style=\"text-align: right;\">\n",
       "      <th></th>\n",
       "      <th>rating</th>\n",
       "    </tr>\n",
       "    <tr>\n",
       "      <th>placeID</th>\n",
       "      <th></th>\n",
       "    </tr>\n",
       "  </thead>\n",
       "  <tbody>\n",
       "    <tr>\n",
       "      <th>132862</th>\n",
       "      <td>90</td>\n",
       "    </tr>\n",
       "    <tr>\n",
       "      <th>135032</th>\n",
       "      <td>84</td>\n",
       "    </tr>\n",
       "    <tr>\n",
       "      <th>135052</th>\n",
       "      <td>75</td>\n",
       "    </tr>\n",
       "    <tr>\n",
       "      <th>135057</th>\n",
       "      <td>60</td>\n",
       "    </tr>\n",
       "    <tr>\n",
       "      <th>135025</th>\n",
       "      <td>60</td>\n",
       "    </tr>\n",
       "  </tbody>\n",
       "</table>\n",
       "</div>"
      ],
      "text/plain": [
       "         rating\n",
       "placeID        \n",
       "132862       90\n",
       "135032       84\n",
       "135052       75\n",
       "135057       60\n",
       "135025       60"
      ]
     },
     "execution_count": 16,
     "metadata": {},
     "output_type": "execute_result"
    }
   ],
   "source": [
    "############################ Popularity based example ##############################\n",
    "\n",
    "import pandas as pd\n",
    "import numpy as np\n",
    "\n",
    "\n",
    "# read data \n",
    "\n",
    "path1=r'E:\\ML\\Recomm system\\chefmozaccepts.csv'\n",
    "path2=r'E:\\ML\\Recomm system\\rating_final.csv'\n",
    "path3=r'E:\\ML\\Recomm system\\geoplaces2.csv'    \n",
    "\n",
    "df1=pd.read_csv(path1)\n",
    "\n",
    "df2=pd.read_csv(path2)\n",
    "\n",
    "#df3=pd.read_csv(path3,'rb')\n",
    "\n",
    "dcuisine=pd.merge(df1,df2, on ='placeID')\n",
    "\n",
    "# To generate a recommendation based on counts\n",
    "\n",
    "# Using groupby to group the restaurants and getting the count by rating\n",
    "count_by_rating = pd.DataFrame(dcuisine.groupby(['placeID'])['rating'].count())\n",
    "\n",
    "# Arranging the output in descending order and taking head to get the top 5 most popular restaurants\n",
    "count_by_rating.sort_values('rating', ascending=False).head(5)\n"
   ]
  },
  {
   "cell_type": "markdown",
   "metadata": {},
   "source": [
    "From the above table of top 5 restaurants. The system will recommend the restaurant with id 135032 over\n",
    "the restaurant with id 135052"
   ]
  },
  {
   "cell_type": "code",
   "execution_count": 20,
   "metadata": {},
   "outputs": [
    {
     "data": {
      "text/html": [
       "<div>\n",
       "<style scoped>\n",
       "    .dataframe tbody tr th:only-of-type {\n",
       "        vertical-align: middle;\n",
       "    }\n",
       "\n",
       "    .dataframe tbody tr th {\n",
       "        vertical-align: top;\n",
       "    }\n",
       "\n",
       "    .dataframe thead th {\n",
       "        text-align: right;\n",
       "    }\n",
       "</style>\n",
       "<table border=\"1\" class=\"dataframe\">\n",
       "  <thead>\n",
       "    <tr style=\"text-align: right;\">\n",
       "      <th></th>\n",
       "      <th>placeID</th>\n",
       "      <th>name</th>\n",
       "    </tr>\n",
       "  </thead>\n",
       "  <tbody>\n",
       "    <tr>\n",
       "      <th>0</th>\n",
       "      <td>134999</td>\n",
       "      <td>Kiku Cuernavaca</td>\n",
       "    </tr>\n",
       "    <tr>\n",
       "      <th>1</th>\n",
       "      <td>132825</td>\n",
       "      <td>puesto de tacos</td>\n",
       "    </tr>\n",
       "    <tr>\n",
       "      <th>2</th>\n",
       "      <td>135106</td>\n",
       "      <td>El Rincón de San Francisco</td>\n",
       "    </tr>\n",
       "    <tr>\n",
       "      <th>3</th>\n",
       "      <td>132667</td>\n",
       "      <td>little pizza Emilio Portes Gil</td>\n",
       "    </tr>\n",
       "    <tr>\n",
       "      <th>4</th>\n",
       "      <td>132613</td>\n",
       "      <td>carnitas_mata</td>\n",
       "    </tr>\n",
       "  </tbody>\n",
       "</table>\n",
       "</div>"
      ],
      "text/plain": [
       "   placeID                            name\n",
       "0   134999                 Kiku Cuernavaca\n",
       "1   132825                 puesto de tacos\n",
       "2   135106      El Rincón de San Francisco\n",
       "3   132667  little pizza Emilio Portes Gil\n",
       "4   132613                   carnitas_mata"
      ]
     },
     "execution_count": 20,
     "metadata": {},
     "output_type": "execute_result"
    }
   ],
   "source": [
    "######### Correlation-based recommender systems are also called item-based systems ############################################\n",
    "\n",
    " \n",
    "places_geo = pd.read_csv(path3,\n",
    "                     sep = \",\", encoding= 'mbcs')\n",
    " \n",
    "dcuisine.head()\n",
    " \n",
    "# Checking the place_geo data\n",
    "places_geo.head()\n",
    " \n",
    " \n",
    "# Subsetting data by required columns\n",
    "places_geo =  places_geo[['placeID', 'name']]\n",
    "places_geo.head()"
   ]
  },
  {
   "cell_type": "markdown",
   "metadata": {},
   "source": [
    "Let us check the rating these places are getting and see how popular these places are. Once we have this information \n",
    "we would check the summary statistics for cuisines dataset."
   ]
  },
  {
   "cell_type": "code",
   "execution_count": 24,
   "metadata": {},
   "outputs": [
    {
     "data": {
      "text/html": [
       "<div>\n",
       "<style scoped>\n",
       "    .dataframe tbody tr th:only-of-type {\n",
       "        vertical-align: middle;\n",
       "    }\n",
       "\n",
       "    .dataframe tbody tr th {\n",
       "        vertical-align: top;\n",
       "    }\n",
       "\n",
       "    .dataframe thead th {\n",
       "        text-align: right;\n",
       "    }\n",
       "</style>\n",
       "<table border=\"1\" class=\"dataframe\">\n",
       "  <thead>\n",
       "    <tr style=\"text-align: right;\">\n",
       "      <th></th>\n",
       "      <th>rating</th>\n",
       "      <th>rating_count</th>\n",
       "    </tr>\n",
       "  </thead>\n",
       "  <tbody>\n",
       "    <tr>\n",
       "      <th>count</th>\n",
       "      <td>114.000000</td>\n",
       "      <td>114.000000</td>\n",
       "    </tr>\n",
       "    <tr>\n",
       "      <th>mean</th>\n",
       "      <td>1.192298</td>\n",
       "      <td>20.149123</td>\n",
       "    </tr>\n",
       "    <tr>\n",
       "      <th>std</th>\n",
       "      <td>0.336879</td>\n",
       "      <td>17.654618</td>\n",
       "    </tr>\n",
       "    <tr>\n",
       "      <th>min</th>\n",
       "      <td>0.250000</td>\n",
       "      <td>3.000000</td>\n",
       "    </tr>\n",
       "    <tr>\n",
       "      <th>25%</th>\n",
       "      <td>1.000000</td>\n",
       "      <td>6.000000</td>\n",
       "    </tr>\n",
       "    <tr>\n",
       "      <th>50%</th>\n",
       "      <td>1.204167</td>\n",
       "      <td>15.000000</td>\n",
       "    </tr>\n",
       "    <tr>\n",
       "      <th>75%</th>\n",
       "      <td>1.425595</td>\n",
       "      <td>30.000000</td>\n",
       "    </tr>\n",
       "    <tr>\n",
       "      <th>max</th>\n",
       "      <td>2.000000</td>\n",
       "      <td>90.000000</td>\n",
       "    </tr>\n",
       "  </tbody>\n",
       "</table>\n",
       "</div>"
      ],
      "text/plain": [
       "           rating  rating_count\n",
       "count  114.000000    114.000000\n",
       "mean     1.192298     20.149123\n",
       "std      0.336879     17.654618\n",
       "min      0.250000      3.000000\n",
       "25%      1.000000      6.000000\n",
       "50%      1.204167     15.000000\n",
       "75%      1.425595     30.000000\n",
       "max      2.000000     90.000000"
      ]
     },
     "execution_count": 24,
     "metadata": {},
     "output_type": "execute_result"
    }
   ],
   "source": [
    "\n",
    "# Average rating by place\n",
    "average_rating = pd.DataFrame(dcuisine.groupby('placeID')['rating'].mean())\n",
    "#average_rating.reset_index(level = 0, inplace=True)\n",
    "average_rating.head()\n",
    "\n",
    "# We will use count to get how popular these places are\n",
    "average_rating['rating_count'] = pd.DataFrame(dcuisine.groupby('placeID')['rating'].count())\n",
    "average_rating.head()\n",
    "\n",
    "# Generating descriptive statistics\n",
    "average_rating.describe()\n"
   ]
  },
  {
   "cell_type": "code",
   "execution_count": 25,
   "metadata": {},
   "outputs": [
    {
     "data": {
      "text/html": [
       "<div>\n",
       "<style scoped>\n",
       "    .dataframe tbody tr th:only-of-type {\n",
       "        vertical-align: middle;\n",
       "    }\n",
       "\n",
       "    .dataframe tbody tr th {\n",
       "        vertical-align: top;\n",
       "    }\n",
       "\n",
       "    .dataframe thead th {\n",
       "        text-align: right;\n",
       "    }\n",
       "</style>\n",
       "<table border=\"1\" class=\"dataframe\">\n",
       "  <thead>\n",
       "    <tr style=\"text-align: right;\">\n",
       "      <th></th>\n",
       "      <th>rating</th>\n",
       "      <th>rating_count</th>\n",
       "    </tr>\n",
       "    <tr>\n",
       "      <th>placeID</th>\n",
       "      <th></th>\n",
       "      <th></th>\n",
       "    </tr>\n",
       "  </thead>\n",
       "  <tbody>\n",
       "    <tr>\n",
       "      <th>132862</th>\n",
       "      <td>1.388889</td>\n",
       "      <td>90</td>\n",
       "    </tr>\n",
       "    <tr>\n",
       "      <th>135032</th>\n",
       "      <td>1.178571</td>\n",
       "      <td>84</td>\n",
       "    </tr>\n",
       "    <tr>\n",
       "      <th>135052</th>\n",
       "      <td>1.280000</td>\n",
       "      <td>75</td>\n",
       "    </tr>\n",
       "    <tr>\n",
       "      <th>135057</th>\n",
       "      <td>1.266667</td>\n",
       "      <td>60</td>\n",
       "    </tr>\n",
       "    <tr>\n",
       "      <th>135025</th>\n",
       "      <td>1.666667</td>\n",
       "      <td>60</td>\n",
       "    </tr>\n",
       "  </tbody>\n",
       "</table>\n",
       "</div>"
      ],
      "text/plain": [
       "           rating  rating_count\n",
       "placeID                        \n",
       "132862   1.388889            90\n",
       "135032   1.178571            84\n",
       "135052   1.280000            75\n",
       "135057   1.266667            60\n",
       "135025   1.666667            60"
      ]
     },
     "execution_count": 25,
     "metadata": {},
     "output_type": "execute_result"
    }
   ],
   "source": [
    "# Let’s now sort the dataset by using sort_values() method to get the most popular place in the dataset.\n",
    "average_rating.sort_values('rating_count', ascending=False).head()"
   ]
  },
  {
   "cell_type": "markdown",
   "metadata": {},
   "source": [
    "As a restaurant with placeID 135032 is the one which has a maximum count"
   ]
  },
  {
   "cell_type": "markdown",
   "metadata": {},
   "source": [
    "For demo purposes, we will see which places can be recommended to users based upon the Pearson correlation \n",
    "and rating given by him to other restaurants."
   ]
  },
  {
   "cell_type": "code",
   "execution_count": 27,
   "metadata": {},
   "outputs": [
    {
     "data": {
      "text/html": [
       "<div>\n",
       "<style scoped>\n",
       "    .dataframe tbody tr th:only-of-type {\n",
       "        vertical-align: middle;\n",
       "    }\n",
       "\n",
       "    .dataframe tbody tr th {\n",
       "        vertical-align: top;\n",
       "    }\n",
       "\n",
       "    .dataframe thead th {\n",
       "        text-align: right;\n",
       "    }\n",
       "</style>\n",
       "<table border=\"1\" class=\"dataframe\">\n",
       "  <thead>\n",
       "    <tr style=\"text-align: right;\">\n",
       "      <th></th>\n",
       "      <th>PearsonR</th>\n",
       "      <th>rating_count</th>\n",
       "    </tr>\n",
       "    <tr>\n",
       "      <th>placeID</th>\n",
       "      <th></th>\n",
       "      <th></th>\n",
       "    </tr>\n",
       "  </thead>\n",
       "  <tbody>\n",
       "    <tr>\n",
       "      <th>135047</th>\n",
       "      <td>1.0</td>\n",
       "      <td>30</td>\n",
       "    </tr>\n",
       "    <tr>\n",
       "      <th>135045</th>\n",
       "      <td>1.0</td>\n",
       "      <td>52</td>\n",
       "    </tr>\n",
       "    <tr>\n",
       "      <th>132951</th>\n",
       "      <td>1.0</td>\n",
       "      <td>10</td>\n",
       "    </tr>\n",
       "    <tr>\n",
       "      <th>135052</th>\n",
       "      <td>1.0</td>\n",
       "      <td>75</td>\n",
       "    </tr>\n",
       "    <tr>\n",
       "      <th>135054</th>\n",
       "      <td>1.0</td>\n",
       "      <td>30</td>\n",
       "    </tr>\n",
       "    <tr>\n",
       "      <th>135058</th>\n",
       "      <td>1.0</td>\n",
       "      <td>54</td>\n",
       "    </tr>\n",
       "    <tr>\n",
       "      <th>132572</th>\n",
       "      <td>1.0</td>\n",
       "      <td>15</td>\n",
       "    </tr>\n",
       "    <tr>\n",
       "      <th>132872</th>\n",
       "      <td>1.0</td>\n",
       "      <td>24</td>\n",
       "    </tr>\n",
       "    <tr>\n",
       "      <th>135076</th>\n",
       "      <td>1.0</td>\n",
       "      <td>52</td>\n",
       "    </tr>\n",
       "    <tr>\n",
       "      <th>132954</th>\n",
       "      <td>1.0</td>\n",
       "      <td>36</td>\n",
       "    </tr>\n",
       "  </tbody>\n",
       "</table>\n",
       "</div>"
      ],
      "text/plain": [
       "         PearsonR  rating_count\n",
       "placeID                        \n",
       "135047        1.0            30\n",
       "135045        1.0            52\n",
       "132951        1.0            10\n",
       "135052        1.0            75\n",
       "135054        1.0            30\n",
       "135058        1.0            54\n",
       "132572        1.0            15\n",
       "132872        1.0            24\n",
       "135076        1.0            52\n",
       "132954        1.0            36"
      ]
     },
     "execution_count": 27,
     "metadata": {},
     "output_type": "execute_result"
    }
   ],
   "source": [
    "\n",
    "\n",
    "\n",
    "places_geo[places_geo['placeID'] == 135052] # restaurant name is La Cantina Restaurante\n",
    "\n",
    "# Checking what all cuisines this place serves\n",
    "dcuisine[dcuisine['placeID'] == 135052] \n",
    "\n",
    "# Most of the matrix is sparse as one person can only review few palces\n",
    "places_geo_table = pd.pivot_table(data = dcuisine, values='rating', index='userID', columns='placeID')\n",
    "places_geo_table.head()\n",
    "\n",
    "# Ratings given to el cafetaria restaurant by other users\n",
    "la_rating = places_geo_table[135052]\n",
    "la_rating[la_rating>=0]\n",
    "\n",
    "# Creating the correlation table \n",
    "places_similar_to_la = places_geo_table.corrwith(la_rating)\n",
    "\n",
    "corr_table_la = pd.DataFrame(places_similar_to_la, columns=['PearsonR'])\n",
    "corr_table_la.dropna(inplace=True) # droping NA values from the sparse table\n",
    "corr_table_la.head()\n",
    "\n",
    "# Cominbing with the rating as rating given by other users is required\n",
    "corr_table_la_summary = corr_table_la.join(average_rating['rating_count'])\n",
    "corr_table_la_summary[corr_table_la_summary['rating_count']>=10].sort_values('PearsonR', ascending=False).head(10)"
   ]
  },
  {
   "cell_type": "markdown",
   "metadata": {},
   "source": [
    "Finally, what we get back here is the list of top 9 places which are similar to el cafeteria restaurant \n",
    "based upon their popularity and correlation"
   ]
  },
  {
   "cell_type": "code",
   "execution_count": 28,
   "metadata": {},
   "outputs": [],
   "source": [
    "################## EXAMPLE CLASSIFICATION BASED RECOMMENDER SYSTEMS #######################################"
   ]
  },
  {
   "cell_type": "markdown",
   "metadata": {},
   "source": [
    "Classification based algorithm is powered by machine learning algorithms like navie Bayes, logistic regression,\n",
    "etc. These models are capable of making personalized recommendations because they take into account purchase history, \n",
    "user attributes, as well as other contextual data"
   ]
  },
  {
   "cell_type": "code",
   "execution_count": 34,
   "metadata": {},
   "outputs": [
    {
     "name": "stderr",
     "output_type": "stream",
     "text": [
      "C:\\Anaconda3\\lib\\site-packages\\sklearn\\linear_model\\logistic.py:433: FutureWarning: Default solver will be changed to 'lbfgs' in 0.22. Specify a solver to silence this warning.\n",
      "  FutureWarning)\n"
     ]
    },
    {
     "data": {
      "text/plain": [
       "array(['no'], dtype=object)"
      ]
     },
     "execution_count": 34,
     "metadata": {},
     "output_type": "execute_result"
    }
   ],
   "source": [
    "# loading required libraries\n",
    "import numpy as np\n",
    "import pandas as pd\n",
    "\n",
    "from pandas import Series, DataFrame\n",
    "from sklearn.linear_model import LogisticRegression\n",
    "\n",
    "bank_data = pd.read_csv(r'E:\\ML\\Recomm system\\bank.csv')\n",
    "bank_data.head() # We have 42k observations and 37 variables.\n",
    "\n",
    "# Seperating independent and taregt variable\n",
    "x_vars = bank_data.iloc[:, [18,19,20,21,22,23,24,25,26,27,28,29,30,31,32,33,34,35,36]].values\n",
    "y_var = bank_data[\"y\"]\n",
    "\n",
    "# Building the logistic model\n",
    "Logmod = LogisticRegression()\n",
    "Logmod.fit(x_vars, y_var)\n",
    "\n",
    "# Creating x_var data for new user\n",
    "new_user = [[0, 1, 0, 0, 0, 1, 0, 1, 1, 0, 1, 0, 1, 1, 1, 0, 1, 1, 1]]\n",
    "y_pred = Logmod.predict(new_user)\n",
    "y_pred # The customer will not buy the product if approached."
   ]
  },
  {
   "cell_type": "code",
   "execution_count": 35,
   "metadata": {},
   "outputs": [],
   "source": [
    "#########################   CONTENT-BASED RECOMMENDER SYSTEMS  #################################"
   ]
  },
  {
   "cell_type": "markdown",
   "metadata": {},
   "source": [
    "In this final Machine learning based recommender system, we will be using an unsupervised algorithm known as KNN\n",
    "(K Nearest Neighbours). KNN algorithm first memorizes the data and then tells us which two or more items are similarly \n",
    "based upon mathematical calculation"
   ]
  },
  {
   "cell_type": "code",
   "execution_count": 39,
   "metadata": {},
   "outputs": [
    {
     "name": "stdout",
     "output_type": "stream",
     "text": [
      "(array([[32.6486891]]), array([[11]], dtype=int64))\n"
     ]
    },
    {
     "data": {
      "text/html": [
       "<div>\n",
       "<style scoped>\n",
       "    .dataframe tbody tr th:only-of-type {\n",
       "        vertical-align: middle;\n",
       "    }\n",
       "\n",
       "    .dataframe tbody tr th {\n",
       "        vertical-align: top;\n",
       "    }\n",
       "\n",
       "    .dataframe thead th {\n",
       "        text-align: right;\n",
       "    }\n",
       "</style>\n",
       "<table border=\"1\" class=\"dataframe\">\n",
       "  <thead>\n",
       "    <tr style=\"text-align: right;\">\n",
       "      <th></th>\n",
       "      <th>car_names</th>\n",
       "      <th>mpg</th>\n",
       "      <th>disp</th>\n",
       "      <th>hp</th>\n",
       "      <th>wt</th>\n",
       "    </tr>\n",
       "  </thead>\n",
       "  <tbody>\n",
       "    <tr>\n",
       "      <th>11</th>\n",
       "      <td>Merc 450SE</td>\n",
       "      <td>16.4</td>\n",
       "      <td>275.8</td>\n",
       "      <td>180</td>\n",
       "      <td>4.07</td>\n",
       "    </tr>\n",
       "  </tbody>\n",
       "</table>\n",
       "</div>"
      ],
      "text/plain": [
       "     car_names   mpg   disp   hp    wt\n",
       "11  Merc 450SE  16.4  275.8  180  4.07"
      ]
     },
     "execution_count": 39,
     "metadata": {},
     "output_type": "execute_result"
    }
   ],
   "source": [
    "import numpy as np\n",
    "import pandas as pd\n",
    "\n",
    "import sklearn\n",
    "from sklearn.neighbors import NearestNeighbors\n",
    "\n",
    "mtcars = pd.read_csv(r'E:\\ML\\Recomm system\\cars.csv')\n",
    "\n",
    "# Setting the features similar to Merc 450SL\n",
    "t = [16, 250, 160, 3.7]\n",
    "feature_matix = mtcars.iloc[:,[1, 3, 4, 6]].values\n",
    "\n",
    "# Recommendation is made based upon 2 similar cars\n",
    "knn = NearestNeighbors(n_neighbors=1).fit(feature_matix)\n",
    "\n",
    "# printing the recommendation\n",
    "print(knn.kneighbors([t]))\n",
    "\n",
    "# Getting the names of the cars\n",
    "mtcars.iloc[11:12,[0,1, 3, 4, 6]]"
   ]
  },
  {
   "cell_type": "code",
   "execution_count": null,
   "metadata": {},
   "outputs": [],
   "source": []
  }
 ],
 "metadata": {
  "kernelspec": {
   "display_name": "Python 3",
   "language": "python",
   "name": "python3"
  },
  "language_info": {
   "codemirror_mode": {
    "name": "ipython",
    "version": 3
   },
   "file_extension": ".py",
   "mimetype": "text/x-python",
   "name": "python",
   "nbconvert_exporter": "python",
   "pygments_lexer": "ipython3",
   "version": "3.7.1"
  }
 },
 "nbformat": 4,
 "nbformat_minor": 2
}
